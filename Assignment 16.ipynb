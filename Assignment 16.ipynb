{
 "cells": [
  {
   "cell_type": "markdown",
   "id": "0961337d",
   "metadata": {},
   "source": [
    "1. Create a list called years_list, starting with the year of your birth, and each year thereafter until\n",
    "the year of your fifth birthday. For example, if you were born in 1980. the list would be years_list =\n",
    "[1980, 1981, 1982, 1983, 1984, 1985].\n",
    "\n",
    "A. years_list=[1985,1986, 1987, 1988, 1989,1990]"
   ]
  },
  {
   "cell_type": "markdown",
   "id": "ec766e86",
   "metadata": {},
   "source": [
    "2. In which year in years_list was your third birthday? Remember, you were 0 years of age for your\n",
    "first year.\n",
    "\n",
    "A. 1988"
   ]
  },
  {
   "cell_type": "markdown",
   "id": "5867af41",
   "metadata": {},
   "source": [
    "3.In the years list, which year were you the oldest?\n",
    "\n",
    "A. 1990."
   ]
  },
  {
   "cell_type": "markdown",
   "id": "9b525775",
   "metadata": {},
   "source": [
    "4. Make a list called things with these three strings as elements: “mozzarella”, “cinderella”,\n",
    "“salmonella”.\n",
    "\n",
    "\n",
    "A. things=[“mozzarella”, “cinderella”, “salmonella”]"
   ]
  },
  {
   "cell_type": "markdown",
   "id": "6f73c268",
   "metadata": {},
   "source": [
    "#5. Capitalize the element in things that refers to a person and then print the list. Did it change the\n",
    "element in the list?\n",
    "\n",
    "things=[\"mozzarella\", \"CINDERELLA\", \"salmonella\"]\n",
    "things\n",
    "\n",
    "Yes, it did change cinderella to CINDERELLA upon capitalizing it"
   ]
  },
  {
   "cell_type": "markdown",
   "id": "d11e41f9",
   "metadata": {},
   "source": [
    "6. Make a surprise list with the elements “Groucho,” “Chico,” and “Harpo.”\n",
    "\n",
    "A. surprise_list=[\"Groucho,\" \"Chico,\"Harpo\"]"
   ]
  },
  {
   "cell_type": "markdown",
   "id": "164113f4",
   "metadata": {},
   "source": [
    "7. Lowercase the last element of the surprise list, reverse it, and then capitalize it.\n",
    "\n",
    "A. surprise_list=[\"Groucho,\" \"Chico,\"Harpo\"]\n",
    "                  \n",
    "surprise_list[-1].lower()\n",
    "\n",
    "'harpo'\n",
    "\n",
    "surprise_list[-1][::-1]\n",
    "\n",
    "'opraH'\n",
    "\n",
    "surprise_list[-1][::-1].upper()\n",
    "\n",
    "'OPRAH'"
   ]
  },
  {
   "cell_type": "markdown",
   "id": "703e9535",
   "metadata": {},
   "source": [
    "8. Make an English-to-French dictionary called e2f and print it. Here are your starter words: dog is\n",
    "chien, cat is chat, and walrus is morse.\n",
    "\n",
    "A.\n",
    "\n",
    "e2f={'dog': 'chien', 'cat': 'chat', 'walrus': 'morse'}\n",
    "\n",
    "e2f\n",
    "\n",
    "{'dog': 'chien', 'cat': 'chat', 'walrus': 'morse'}"
   ]
  },
  {
   "cell_type": "markdown",
   "id": "4f34de10",
   "metadata": {},
   "source": [
    "9. Write the French word for walrus in your three-word dictionary e2f.\n",
    "\n",
    "A. \n",
    "\n",
    "e2f={'dog': 'chien', 'cat': 'chat', 'walrus': 'morse'}\n",
    "\n",
    "e2f['walrus']\n",
    "\n",
    "'morse'"
   ]
  },
  {
   "cell_type": "markdown",
   "id": "aa4e890f",
   "metadata": {},
   "source": [
    "10. Make a French-to-English dictionary called f2e from e2f. Use the items method.\n",
    "\n",
    "f2e = dict((key,value) for value,key in e2f.items())\n",
    "\n",
    "f2e\n",
    "\n",
    "{'chat': 'cat', 'chien': 'dog', 'morse': 'walrus'}"
   ]
  },
  {
   "cell_type": "markdown",
   "id": "ea1b74ec",
   "metadata": {},
   "source": [
    "11. Print the English version of the French word chien using f2e.\n",
    "\n",
    "A. f2e['chien']\n",
    "\n",
    "'dog'"
   ]
  },
  {
   "cell_type": "markdown",
   "id": "ce4606ef",
   "metadata": {},
   "source": [
    "12. Make and print a set of English words from the keys in e2f.\n",
    "\n",
    "A.\n",
    "\n",
    "e2f.keys()\n",
    "\n",
    "dict_keys(['dog', 'cat', 'walrus'])"
   ]
  },
  {
   "cell_type": "markdown",
   "id": "ddfd8d75",
   "metadata": {},
   "source": [
    "13. Make a multilevel dictionary called life. Use these strings for the topmost keys: “animals”39;, “plants”39; and “other”39;. Make the “animals”39; key refer to another dictionary with the keys “cats”39;, “octopi”39;, and “emus”39;. Make the “cats”39; key refer to a list of strings with the values “Henri”39;, “Grumpy”39;, and “Lucy”39.  Make all the other keys refer to empty dictionaries.\n",
    "\n",
    "A.\n",
    "\n",
    "life ={'animals':{'cat':['Henri', 'Grumpy', 'Lucy'], 'octopi':'', 'emus':''},\n",
    "       'plants' :'',\n",
    "       'other' :'' }\n",
    "life\n",
    "\n",
    "\n",
    "{'animals': {'cat': ['Henri', 'Grumpy', 'Lucy'], 'emus': '', 'octopi': ''},\n",
    " 'other': '',\n",
    " 'plants': ''}"
   ]
  },
  {
   "cell_type": "markdown",
   "id": "ec26545b",
   "metadata": {},
   "source": [
    "14. Print the top-level keys of life.\n",
    "\n",
    "A.\n",
    "\n",
    "life.keys()\n",
    "\n",
    "dict_keys(['animals', 'plants', 'other'])"
   ]
  },
  {
   "cell_type": "markdown",
   "id": "1df0bf64",
   "metadata": {},
   "source": [
    "15. Print the keys for life['animals'].\n",
    "\n",
    "A. \n",
    "life['animals'].keys()\n",
    "\n",
    "dict_keys(['cat', 'octopi', 'emus'])"
   ]
  },
  {
   "cell_type": "markdown",
   "id": "cdad35ff",
   "metadata": {},
   "source": [
    "16. Print the values for life['animals']['cats']\n",
    "\n",
    "A.\n",
    "\n",
    "life['animals']['cat']\n",
    "\n",
    "['Henri', 'Grumpy', 'Lucy']"
   ]
  }
 ],
 "metadata": {
  "kernelspec": {
   "display_name": "Python 3 (ipykernel)",
   "language": "python",
   "name": "python3"
  },
  "language_info": {
   "codemirror_mode": {
    "name": "ipython",
    "version": 3
   },
   "file_extension": ".py",
   "mimetype": "text/x-python",
   "name": "python",
   "nbconvert_exporter": "python",
   "pygments_lexer": "ipython3",
   "version": "3.9.7"
  }
 },
 "nbformat": 4,
 "nbformat_minor": 5
}
